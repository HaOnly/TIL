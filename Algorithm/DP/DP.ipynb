{
 "cells": [
  {
   "cell_type": "markdown",
   "metadata": {},
   "source": [
    "## 2225 합분해"
   ]
  },
  {
   "cell_type": "code",
   "execution_count": 28,
   "metadata": {},
   "outputs": [
    {
     "name": "stdout",
     "output_type": "stream",
     "text": [
      "21\n"
     ]
    }
   ],
   "source": [
    "N, K = map(int, input().split())\n",
    "mod =1000000000\n",
    "dp = [[0]*(N+1) for _ in range(K+1)]\n",
    "dp[0][0] = 1\n",
    "\n",
    "for i in range(1, K+1):\n",
    "    for j in range(N+1):\n",
    "        dp[i][j] = dp[i-1][j] + dp[i][j-1]\n",
    "        dp[i][j] %= mod\n",
    "print(dp[K][N])"
   ]
  },
  {
   "cell_type": "markdown",
   "metadata": {},
   "source": [
    "## 11726 2xn 타일링"
   ]
  },
  {
   "cell_type": "code",
   "execution_count": 40,
   "metadata": {},
   "outputs": [
    {
     "name": "stdout",
     "output_type": "stream",
     "text": [
      "55\n"
     ]
    }
   ],
   "source": [
    "N = int(input())\n",
    "dp = [0, 1, 2]\n",
    "for i in range(3, N+1):\n",
    "    dp.append(dp[i-2] + dp[i-1])\n",
    "print(dp[N]%10007)"
   ]
  },
  {
   "cell_type": "markdown",
   "metadata": {},
   "source": [
    "## 9095 1,2,3 더하기"
   ]
  },
  {
   "cell_type": "code",
   "execution_count": 2,
   "metadata": {},
   "outputs": [
    {
     "name": "stdout",
     "output_type": "stream",
     "text": [
      "7\n",
      "13\n",
      "24\n"
     ]
    }
   ],
   "source": [
    "N = int(input())\n",
    "inputs = []\n",
    "dp = [1, 2, 4]\n",
    "for i in range(3, 12):\n",
    "    dp.append(dp[i-1] + dp[i-2] + dp[i-3])\n",
    "    \n",
    "for i in range(0, N):\n",
    "    inputs.append(int(input()))\n",
    "    print(dp[inputs[i]-1])"
   ]
  },
  {
   "cell_type": "markdown",
   "metadata": {},
   "source": [
    "## 9561 파도반 수열"
   ]
  },
  {
   "cell_type": "code",
   "execution_count": 6,
   "metadata": {},
   "outputs": [
    {
     "name": "stdout",
     "output_type": "stream",
     "text": [
      "3\n",
      "16\n"
     ]
    }
   ],
   "source": [
    "N = int(input())\n",
    "inputs = []\n",
    "dp = [1, 1, 1, 2, 2]\n",
    "for i in range(5, 100):\n",
    "    dp.append(dp[i-5] + dp[i-1])\n",
    "for i in range(0, N):\n",
    "    inputs.append(int(input()))\n",
    "    print(dp[inputs[i]-1])"
   ]
  },
  {
   "cell_type": "markdown",
   "metadata": {},
   "source": [
    "## 1699 제곱수의 합"
   ]
  },
  {
   "cell_type": "code",
   "execution_count": 9,
   "metadata": {},
   "outputs": [
    {
     "name": "stdout",
     "output_type": "stream",
     "text": [
      "4\n"
     ]
    }
   ],
   "source": [
    "N = int(input())\n",
    "dp = [0 for _ in range(N+1)]\n",
    "square = [i*i for i in range(1, 317)]\n",
    "\n",
    "for i in range(1, N+1):\n",
    "    s = []\n",
    "    for j in square:\n",
    "        if j > i:\n",
    "            break\n",
    "        s.append(dp[i-j])\n",
    "    dp[i] = min(s)+1\n",
    "print(dp[N])"
   ]
  },
  {
   "cell_type": "markdown",
   "metadata": {},
   "source": [
    "## 2xn 타일링 2"
   ]
  },
  {
   "cell_type": "code",
   "execution_count": 11,
   "metadata": {},
   "outputs": [
    {
     "name": "stdout",
     "output_type": "stream",
     "text": [
      "2731\n"
     ]
    }
   ],
   "source": [
    "N = int(input())\n",
    "dp = [0, 1, 3]\n",
    "\n",
    "for i in range(3, N+1):\n",
    "    dp.append(dp[i-1] + dp[i-2]*2)\n",
    "\n",
    "print(dp[N]%10007)"
   ]
  },
  {
   "cell_type": "code",
   "execution_count": null,
   "metadata": {},
   "outputs": [],
   "source": []
  }
 ],
 "metadata": {
  "kernelspec": {
   "display_name": "Python 3",
   "language": "python",
   "name": "python3"
  },
  "language_info": {
   "codemirror_mode": {
    "name": "ipython",
    "version": 3
   },
   "file_extension": ".py",
   "mimetype": "text/x-python",
   "name": "python",
   "nbconvert_exporter": "python",
   "pygments_lexer": "ipython3",
   "version": "3.6.5"
  }
 },
 "nbformat": 4,
 "nbformat_minor": 2
}
