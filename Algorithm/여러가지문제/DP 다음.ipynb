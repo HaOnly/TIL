{
 "cells": [
  {
   "cell_type": "markdown",
   "metadata": {},
   "source": [
    "# DP 다음"
   ]
  },
  {
   "cell_type": "markdown",
   "metadata": {},
   "source": [
    "## 10814 나이순 정렬"
   ]
  },
  {
   "cell_type": "code",
   "execution_count": 17,
   "metadata": {},
   "outputs": [
    {
     "name": "stdout",
     "output_type": "stream",
     "text": [
      "20 Sunyoung\n",
      "21 Junkyu\n",
      "21 Dohyun\n"
     ]
    }
   ],
   "source": [
    "N = int(input())\n",
    "people = []\n",
    "\n",
    "for i in range(N):\n",
    "    age, name = input().split()\n",
    "    age = int(age)\n",
    "    people.append((age, name))\n",
    "    \n",
    "people.sort(key = lambda person : (person[0]))\n",
    "for person in people:\n",
    "    print(person[0], person[1])"
   ]
  },
  {
   "cell_type": "markdown",
   "metadata": {},
   "source": [
    "## 11650 좌표 정렬하기"
   ]
  },
  {
   "cell_type": "code",
   "execution_count": 24,
   "metadata": {},
   "outputs": [
    {
     "name": "stdout",
     "output_type": "stream",
     "text": [
      "1 -1\n",
      "1 1\n",
      "3 4\n"
     ]
    }
   ],
   "source": [
    "N = int(input())\n",
    "xy = []\n",
    "\n",
    "for i in range(N):\n",
    "    x, y = map(int, input().split())\n",
    "    xy.append((x,y))\n",
    "\n",
    "xy.sort(key = lambda x_ : (x_[0], x_[1]))\n",
    "for item in xy:\n",
    "    print(item[0], item[1])"
   ]
  },
  {
   "cell_type": "markdown",
   "metadata": {},
   "source": [
    "## 11651 좌표 정렬하기2"
   ]
  },
  {
   "cell_type": "code",
   "execution_count": 2,
   "metadata": {},
   "outputs": [
    {
     "name": "stdout",
     "output_type": "stream",
     "text": [
      "1 -1\n",
      "1 2\n",
      "2 2\n",
      "3 3\n",
      "0 4\n"
     ]
    }
   ],
   "source": [
    "N = int(input())\n",
    "xy = []\n",
    "for i in range(N):\n",
    "    x, y = map(int, input().split())\n",
    "    xy.append((x, y))\n",
    "    \n",
    "xy.sort(key = lambda item : (item[1], item[0]))\n",
    "for i in xy:\n",
    "    print(i[0], i[1])"
   ]
  },
  {
   "cell_type": "markdown",
   "metadata": {},
   "source": [
    "## 11652 카드"
   ]
  },
  {
   "cell_type": "code",
   "execution_count": 8,
   "metadata": {},
   "outputs": [
    {
     "name": "stdout",
     "output_type": "stream",
     "text": [
      "1\n"
     ]
    }
   ],
   "source": [
    "from collections import Counter\n",
    "N = int(input())\n",
    "cards = [int(input()) for _ in range(N)]\n",
    "\n",
    "cnt = Counter(sorted(cards))\n",
    "print(cnt.most_common(1)[0][0])"
   ]
  },
  {
   "cell_type": "markdown",
   "metadata": {},
   "source": [
    "## 11004 K번째 수"
   ]
  },
  {
   "cell_type": "code",
   "execution_count": 11,
   "metadata": {},
   "outputs": [
    {
     "name": "stdout",
     "output_type": "stream",
     "text": [
      "2\n"
     ]
    }
   ],
   "source": [
    "N, K = map(int, input().split())\n",
    "numbers = list(map(int, input().split()))\n",
    "numbers.sort()\n",
    "print(numbers[K-1])"
   ]
  },
  {
   "cell_type": "markdown",
   "metadata": {},
   "source": [
    "## 10828 스택"
   ]
  },
  {
   "cell_type": "code",
   "execution_count": 17,
   "metadata": {},
   "outputs": [
    {
     "name": "stdout",
     "output_type": "stream",
     "text": [
      "2\n",
      "2\n",
      "0\n",
      "2\n",
      "1\n",
      "-1\n",
      "0\n",
      "1\n",
      "-1\n",
      "0\n",
      "3\n"
     ]
    }
   ],
   "source": [
    "N = int(input())\n",
    "stack = []\n",
    "\n",
    "for i in range(N):\n",
    "    order = input()\n",
    "    if \"push\" in order:\n",
    "        order, num = order.split()\n",
    "        stack.append(num)\n",
    "    if \"top\" in order:\n",
    "        if not stack:\n",
    "            print(-1)\n",
    "        else:\n",
    "            print(stack[len(stack)-1])\n",
    "    if \"size\" in order:\n",
    "        print(len(stack))\n",
    "    if \"empty\" in order:\n",
    "        if not stack:\n",
    "            print(1)\n",
    "        else: \n",
    "            print(0)\n",
    "    if \"pop\" in order:\n",
    "        if not stack:\n",
    "            print(-1)\n",
    "        else: \n",
    "            top = stack.pop()\n",
    "            print(top)"
   ]
  },
  {
   "cell_type": "markdown",
   "metadata": {},
   "source": [
    "## 9012 괄호"
   ]
  },
  {
   "cell_type": "code",
   "execution_count": 4,
   "metadata": {},
   "outputs": [
    {
     "name": "stdout",
     "output_type": "stream",
     "text": [
      "NO\n",
      "NO\n",
      "NO\n",
      "NO\n",
      "NO\n"
     ]
    }
   ],
   "source": [
    "T = int(input())\n",
    "\n",
    "for i in range(T):\n",
    "    sum = 0\n",
    "    ps = list(input())\n",
    "    for c in ps:\n",
    "        if c == '(':\n",
    "            sum += 1\n",
    "        if c == ')':\n",
    "            sum -= 1\n",
    "        if sum < 0:\n",
    "            print(\"NO\")\n",
    "            break\n",
    "    if sum == 0:\n",
    "        print(\"YES\")\n",
    "    if sum > 0:\n",
    "        print(\"NO\")"
   ]
  },
  {
   "cell_type": "markdown",
   "metadata": {},
   "source": [
    "## 10799 쇠막대기"
   ]
  },
  {
   "cell_type": "code",
   "execution_count": 2,
   "metadata": {},
   "outputs": [
    {
     "name": "stdout",
     "output_type": "stream",
     "text": [
      "24\n"
     ]
    }
   ],
   "source": [
    "mm = input()\n",
    "sum = 0\n",
    "left = 0\n",
    "for i in range(len(mm)):\n",
    "    if mm[i] == '(':\n",
    "        left += 1\n",
    "    elif mm[i] == ')':\n",
    "        left -= 1\n",
    "        if mm[i-1] == '(':\n",
    "            sum += left\n",
    "        else:\n",
    "            sum += 1\n",
    "print(sum)\n",
    "        "
   ]
  },
  {
   "cell_type": "markdown",
   "metadata": {},
   "source": [
    "## 10845 큐"
   ]
  },
  {
   "cell_type": "code",
   "execution_count": 5,
   "metadata": {},
   "outputs": [
    {
     "name": "stdout",
     "output_type": "stream",
     "text": [
      "1\n",
      "2\n",
      "2\n",
      "0\n",
      "1\n",
      "2\n",
      "-1\n",
      "0\n",
      "1\n",
      "-1\n",
      "0\n",
      "3\n"
     ]
    }
   ],
   "source": [
    "N = int(input())\n",
    "queue = []\n",
    "for i in range(N):\n",
    "    order = input().split()\n",
    "    if order[0] == 'push':\n",
    "        queue.append(order[1])\n",
    "    if order[0] == 'front':\n",
    "        if not queue: print(-1)\n",
    "        else: print(queue[0])\n",
    "    if order[0] == 'back':\n",
    "        if not queue:\n",
    "            print(-1)\n",
    "        else:\n",
    "            print(queue[-1])\n",
    "    if order[0] == 'size':\n",
    "        print(len(queue))\n",
    "    if order[0] == 'empty':\n",
    "        if not queue:\n",
    "            print(1)\n",
    "        else:\n",
    "            print(0)\n",
    "    if order[0] == 'pop':\n",
    "        if not queue:\n",
    "            print(-1)\n",
    "        else:\n",
    "            print(queu.pop[0])\n",
    "    "
   ]
  },
  {
   "cell_type": "code",
   "execution_count": null,
   "metadata": {},
   "outputs": [],
   "source": []
  }
 ],
 "metadata": {
  "kernelspec": {
   "display_name": "Python 3",
   "language": "python",
   "name": "python3"
  },
  "language_info": {
   "codemirror_mode": {
    "name": "ipython",
    "version": 3
   },
   "file_extension": ".py",
   "mimetype": "text/x-python",
   "name": "python",
   "nbconvert_exporter": "python",
   "pygments_lexer": "ipython3",
   "version": "3.6.5"
  }
 },
 "nbformat": 4,
 "nbformat_minor": 2
}
